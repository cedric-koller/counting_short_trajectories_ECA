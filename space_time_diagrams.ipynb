{
 "cells": [
  {
   "cell_type": "markdown",
   "id": "2e22c81c",
   "metadata": {},
   "source": [
    "# Space-time diagrams ECA"
   ]
  },
  {
   "cell_type": "code",
   "execution_count": null,
   "id": "f0615558",
   "metadata": {},
   "outputs": [],
   "source": [
    "import numpy as np\n",
    "import matplotlib.pyplot as plt\n",
    "from src.dynamics_simulations_ECA import *\n",
    "from src.visualization import *"
   ]
  },
  {
   "cell_type": "code",
   "execution_count": null,
   "id": "a7d6d10f",
   "metadata": {},
   "outputs": [],
   "source": [
    "#random state for reproducibility:\n",
    "rs=np.random.RandomState(0)"
   ]
  },
  {
   "cell_type": "code",
   "execution_count": null,
   "id": "957f68d7",
   "metadata": {},
   "outputs": [],
   "source": [
    "# Example for class 1:\n",
    "wolfram_rule=32\n",
    "rule=list(map(int, list(f'{wolfram_rule:08b}')))\n",
    "rule.reverse() # To go to our convention\n",
    "print(rule)\n",
    "density=0.5\n",
    "num_zeros=0\n",
    "size=50\n",
    "time=20\n",
    "initial_state=np.zeros(num_zeros)\n",
    "initial_state=np.append(initial_state, rs.choice([0,1], size=size, p=[1-density, density]))\n",
    "initial_state=np.append(initial_state, np.zeros(num_zeros, dtype=int))\n",
    "states=dynamics_ECA(initial_state, rule, time)\n",
    "plot_ECA(states, show_grid=False)\n",
    "plt.savefig(f'figures/class_1.png', dpi=300, bbox_inches='tight')\n"
   ]
  },
  {
   "cell_type": "code",
   "execution_count": null,
   "id": "0c81d3c9",
   "metadata": {},
   "outputs": [],
   "source": [
    "# Example for class 2:\n",
    "wolfram_rule=108\n",
    "rule=list(map(int, list(f'{wolfram_rule:08b}')))\n",
    "rule.reverse() # To go to our convention\n",
    "print(rule)\n",
    "density=0.5\n",
    "num_zeros=0\n",
    "size=50\n",
    "time=20\n",
    "initial_state=np.zeros(num_zeros)\n",
    "initial_state=np.append(initial_state, rs.choice([0,1], size=size, p=[1-density, density]))\n",
    "initial_state=np.append(initial_state, np.zeros(num_zeros, dtype=int))\n",
    "states=dynamics_ECA(initial_state, rule, time)\n",
    "plot_ECA(states, show_grid=False)\n",
    "plt.savefig(f'figures/class_2.png', dpi=300, bbox_inches='tight')\n"
   ]
  },
  {
   "cell_type": "code",
   "execution_count": null,
   "id": "3c61a768",
   "metadata": {},
   "outputs": [],
   "source": [
    "# Example for class 3:\n",
    "wolfram_rule=30\n",
    "rule=list(map(int, list(f'{wolfram_rule:08b}')))\n",
    "rule.reverse() # To go to our convention\n",
    "print(rule)\n",
    "density=0.5\n",
    "num_zeros=0\n",
    "size=300\n",
    "time=300\n",
    "initial_state=np.zeros(num_zeros)\n",
    "initial_state=np.append(initial_state, rs.choice([0,1], size=size, p=[1-density, density]))\n",
    "initial_state=np.append(initial_state, np.zeros(num_zeros, dtype=int))\n",
    "states=dynamics_ECA(initial_state, rule, time)\n",
    "plot_ECA(states, show_grid=False)\n",
    "plt.savefig(f'figures/class_3.png', dpi=300, bbox_inches='tight')\n"
   ]
  },
  {
   "cell_type": "code",
   "execution_count": null,
   "id": "9af4c833",
   "metadata": {},
   "outputs": [],
   "source": [
    "# Example for class 4:\n",
    "wolfram_rule=110\n",
    "rule=list(map(int, list(f'{wolfram_rule:08b}')))\n",
    "rule.reverse() # To go to our convention\n",
    "print(rule)\n",
    "density=0.5\n",
    "num_zeros=0\n",
    "size=300\n",
    "time=300\n",
    "initial_state=np.zeros(num_zeros)\n",
    "initial_state=np.append(initial_state, rs.choice([0,1], size=size, p=[1-density, density]))\n",
    "initial_state=np.append(initial_state, np.zeros(num_zeros, dtype=int))\n",
    "states=dynamics_ECA(initial_state, rule, time)\n",
    "plot_ECA(states, show_grid=False)\n",
    "plt.savefig(f'figures/class_4.png', dpi=300, bbox_inches='tight')\n"
   ]
  },
  {
   "cell_type": "code",
   "execution_count": null,
   "id": "9924e9d2",
   "metadata": {},
   "outputs": [],
   "source": [
    "# Example of trajectory with tranient length p=4 and cycle length c=2\n",
    "rs=np.random.RandomState(59) # We change the random state to have a trajectory with transient length p=3 and cycle length c=2\n",
    "wolfram_rule=23\n",
    "rule=list(map(int, list(f'{wolfram_rule:08b}')))\n",
    "rule.reverse() # To go to our convention\n",
    "print(rule)\n",
    "density=0.5\n",
    "num_zeros=0\n",
    "size=20\n",
    "time=10\n",
    "initial_state=np.zeros(num_zeros)\n",
    "initial_state=np.append(initial_state, rs.choice([0,1], size=size, p=[1-density, density]))\n",
    "initial_state=np.append(initial_state, np.zeros(num_zeros, dtype=int))\n",
    "states=dynamics_ECA(initial_state, rule, time)\n",
    "plot_ECA(states, show_grid=False)\n",
    "plt.savefig(f'figures/rule_{wolfram_rule}.png', dpi=300, bbox_inches='tight')\n"
   ]
  },
  {
   "cell_type": "code",
   "execution_count": null,
   "id": "1e6be5e5",
   "metadata": {},
   "outputs": [],
   "source": [
    "# Example of left-shifting neighborhood\n",
    "rs=np.random.RandomState(7) # We change the random state to have a good visualization\n",
    "wolfram_rule=2\n",
    "rule=list(map(int, list(f'{wolfram_rule:08b}')))\n",
    "rule.reverse() # To go to our convention\n",
    "print(rule)\n",
    "density=0.5\n",
    "num_zeros=0\n",
    "size=20\n",
    "time=20\n",
    "initial_state=np.zeros(num_zeros)\n",
    "initial_state=np.append(initial_state, rs.choice([0,1], size=size, p=[1-density, density]))\n",
    "initial_state=np.append(initial_state, np.zeros(num_zeros, dtype=int))\n",
    "states=dynamics_ECA(initial_state, rule, time)\n",
    "plot_ECA(states, show_grid=False)\n",
    "plt.savefig(f'figures/rule_{wolfram_rule}.png', dpi=300, bbox_inches='tight')\n"
   ]
  },
  {
   "cell_type": "code",
   "execution_count": null,
   "id": "815a5a6b",
   "metadata": {},
   "outputs": [],
   "source": [
    "# Example of even-time right-shifted neighborhood\n",
    "rs=np.random.RandomState(1) # We change the random state to have a good visualization\n",
    "wolfram_rule=3\n",
    "rule=list(map(int, list(f'{wolfram_rule:08b}')))\n",
    "rule.reverse() # To go to our convention\n",
    "print(rule)\n",
    "density=0.5\n",
    "num_zeros=0\n",
    "size=20\n",
    "time=20\n",
    "initial_state=np.zeros(num_zeros)\n",
    "initial_state=np.append(initial_state, rs.choice([0,1], size=size, p=[1-density, density]))\n",
    "initial_state=np.append(initial_state, np.zeros(num_zeros, dtype=int))\n",
    "states=dynamics_ECA(initial_state, rule, time)\n",
    "plot_ECA(states, show_grid=False)\n",
    "plt.savefig(f'figures/rule_{wolfram_rule}.png', dpi=300, bbox_inches='tight')\n"
   ]
  },
  {
   "cell_type": "code",
   "execution_count": null,
   "id": "b921d38b",
   "metadata": {},
   "outputs": [],
   "source": [
    "# Rule 41: class 2 with large entropy\n",
    "wolfram_rule=6\n",
    "rule=list(map(int, list(f'{wolfram_rule:08b}')))\n",
    "rule.reverse() # To go to our convention\n",
    "print(rule)\n",
    "density=0.5\n",
    "num_zeros=0\n",
    "size=50\n",
    "time=50\n",
    "initial_state=np.zeros(num_zeros)\n",
    "initial_state=np.append(initial_state, rs.choice([0,1], size=size, p=[1-density, density]))\n",
    "initial_state=np.append(initial_state, np.zeros(num_zeros, dtype=int))\n",
    "states=dynamics_ECA(initial_state, rule, time)\n",
    "plot_ECA(states, show_grid=False)\n",
    "plt.savefig(f'figures/rule_{wolfram_rule}.png', dpi=300, bbox_inches='tight')\n"
   ]
  },
  {
   "cell_type": "code",
   "execution_count": null,
   "id": "ef66e726",
   "metadata": {},
   "outputs": [],
   "source": [
    "# Rule 41: class 2 but low entropy\n",
    "wolfram_rule=41\n",
    "rule=list(map(int, list(f'{wolfram_rule:08b}')))23\n",
    "rule.reverse() # To go to our convention\n",
    "print(rule)\n",
    "density=0.5\n",
    "num_zeros=0\n",
    "size=250\n",
    "time=250\n",
    "initial_state=np.zeros(num_zeros)\n",
    "initial_state=np.append(initial_state, rs.choice([0,1], size=size, p=[1-density, density]))\n",
    "initial_state=np.append(initial_state, np.zeros(num_zeros, dtype=int))\n",
    "states=dynamics_ECA(initial_state, rule, time)\n",
    "plot_ECA(states, show_grid=False)\n",
    "plt.savefig(f'figures/rule_{wolfram_rule}.png', dpi=300, bbox_inches='tight')\n"
   ]
  }
 ],
 "metadata": {
  "kernelspec": {
   "display_name": "env",
   "language": "python",
   "name": "python3"
  },
  "language_info": {
   "codemirror_mode": {
    "name": "ipython",
    "version": 3
   },
   "file_extension": ".py",
   "mimetype": "text/x-python",
   "name": "python",
   "nbconvert_exporter": "python",
   "pygments_lexer": "ipython3",
   "version": "3.10.12"
  }
 },
 "nbformat": 4,
 "nbformat_minor": 5
}
