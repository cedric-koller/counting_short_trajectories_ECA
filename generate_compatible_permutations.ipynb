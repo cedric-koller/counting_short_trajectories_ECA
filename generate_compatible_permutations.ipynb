{
 "cells": [
  {
   "cell_type": "markdown",
   "id": "3c3a3a67",
   "metadata": {},
   "source": [
    "# Generating the arrays of compatible permutations"
   ]
  },
  {
   "cell_type": "code",
   "execution_count": null,
   "id": "1fe000ee",
   "metadata": {},
   "outputs": [],
   "source": [
    "import numpy as np\n",
    "import itertools\n",
    "import scipy as sp\n",
    "\n",
    "def compatible_permutations(perm):\n",
    "    idx_j=np.where(np.all(perm[0,:,1]==perm[:,:,0], axis=1))[0]\n",
    "    out=np.zeros((idx_j.size,2), dtype=int)\n",
    "    out[:,1]=idx_j\n",
    "    for i in range(1,perm.shape[0]):\n",
    "        if i%5000==0:\n",
    "            print('Itertation ', i, ' of', perm.shape[0]-1)\n",
    "        idx_j=np.where(np.all(perm[i,:,1]==perm[:,:,0], axis=1))[0]\n",
    "        out_temp=np.ones((idx_j.size,2), dtype=int)*i\n",
    "        out_temp[:,1]=idx_j\n",
    "        out=np.append(out, out_temp, axis=0)\n",
    "    return out\n",
    "\n",
    "for size in range(0,10):\n",
    "    perm=np.array(list(itertools.product([0,1], repeat=2*(size))))\n",
    "    perm=perm.reshape(perm.shape[0],int(perm.shape[1]/2),2)\n",
    "    comp_perm=compatible_permutations(perm)\n",
    "    np.save(f\"index_compatible_permutations/indexes_compatible_permutations_{size}.npy\", comp_perm)\n"
   ]
  }
 ],
 "metadata": {
  "kernelspec": {
   "display_name": "env",
   "language": "python",
   "name": "python3"
  },
  "language_info": {
   "codemirror_mode": {
    "name": "ipython",
    "version": 3
   },
   "file_extension": ".py",
   "mimetype": "text/x-python",
   "name": "python",
   "nbconvert_exporter": "python",
   "pygments_lexer": "ipython3",
   "version": "3.10.12"
  }
 },
 "nbformat": 4,
 "nbformat_minor": 5
}
